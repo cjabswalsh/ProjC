{
 "cells": [
  {
   "cell_type": "markdown",
   "metadata": {},
   "source": [
    "# Setup"
   ]
  },
  {
   "cell_type": "code",
   "execution_count": 1,
   "metadata": {},
   "outputs": [],
   "source": [
    "import autograd.numpy as ag_np\n",
    "import numpy as np\n",
    "import pandas as pd\n",
    "import os\n",
    "# Import plotting libraries\n",
    "import matplotlib\n",
    "import matplotlib.pyplot as plt\n",
    "\n",
    "%matplotlib inline\n",
    "plt.style.use('seaborn') # pretty matplotlib plots\n",
    "\n",
    "import seaborn as sns\n",
    "sns.set('notebook', font_scale=1.25, style='whitegrid')\n",
    "\n",
    "import sys\n",
    "sys.path.append(\"/\")\n",
    "from train_valid_test_loader import load_train_valid_test_datasets"
   ]
  },
  {
   "cell_type": "code",
   "execution_count": 2,
   "metadata": {},
   "outputs": [],
   "source": [
    "data_path = 'data_movie_lens_100k/' # Path to where dataset csv files live on your system"
   ]
  },
  {
   "cell_type": "code",
   "execution_count": 3,
   "metadata": {},
   "outputs": [],
   "source": [
    "train_tuple, test_tuple, valid_tuple, n_users, n_items = load_train_valid_test_datasets(data_path=data_path)"
   ]
  },
  {
   "cell_type": "code",
   "execution_count": 4,
   "metadata": {},
   "outputs": [],
   "source": [
    "n_train_examples = len(train_tuple[0])\n",
    "N = n_train_examples\n",
    "\n",
    "# Unpack the tuple into its three contained arrays\n",
    "userids_tr_N = train_tuple[0]\n",
    "itemids_tr_N = train_tuple[1]\n",
    "ratings_tr_N = train_tuple[2]\n",
    "\n",
    "userids_va_N = valid_tuple[0]\n",
    "itemids_va_N = valid_tuple[1]\n",
    "ratings_va_N = valid_tuple[2]\n",
    "\n",
    "userids_te_N = test_tuple[0]\n",
    "itemids_te_N = test_tuple[1]\n",
    "ratings_te_N = test_tuple[2]"
   ]
  },
  {
   "cell_type": "code",
   "execution_count": 5,
   "metadata": {},
   "outputs": [
    {
     "name": "stdout",
     "output_type": "stream",
     "text": [
      "[662 298  90 912 302]\n",
      "[761  90 349 917  42]\n",
      "[5 4 4 4 3]\n"
     ]
    }
   ],
   "source": [
    "print(userids_tr_N[:5])\n",
    "print(itemids_tr_N[:5])\n",
    "print(ratings_tr_N[:5])"
   ]
  },
  {
   "cell_type": "code",
   "execution_count": 6,
   "metadata": {},
   "outputs": [
    {
     "name": "stdout",
     "output_type": "stream",
     "text": [
      "70000\n",
      "70000\n",
      "10000\n",
      "10000\n",
      "9992\n",
      "9992\n"
     ]
    }
   ],
   "source": [
    "print(len(userids_tr_N))\n",
    "print(len(itemids_tr_N))\n",
    "print(len(userids_va_N))\n",
    "print(len(itemids_va_N))\n",
    "print(len(userids_te_N))\n",
    "print(len(itemids_te_N))"
   ]
  },
  {
   "cell_type": "markdown",
   "metadata": {},
   "source": [
    "# Problem 1"
   ]
  },
  {
   "cell_type": "code",
   "execution_count": 57,
   "metadata": {},
   "outputs": [],
   "source": [
    "import CollabFilterMeanOnly\n",
    "import importlib\n",
    "importlib.reload(CollabFilterMeanOnly)\n",
    "from CollabFilterMeanOnly import CollabFilterMeanOnly"
   ]
  },
  {
   "cell_type": "code",
   "execution_count": 58,
   "metadata": {},
   "outputs": [],
   "source": [
    "# Create the model\n",
    "model = CollabFilterMeanOnly(\n",
    "    n_epochs=6, batch_size=10000, step_size=0.1)"
   ]
  },
  {
   "cell_type": "code",
   "execution_count": 59,
   "metadata": {},
   "outputs": [
    {
     "data": {
      "text/plain": [
       "False"
      ]
     },
     "execution_count": 59,
     "metadata": {},
     "output_type": "execute_result"
    }
   ],
   "source": [
    "hasattr(model, 'param_dict')"
   ]
  },
  {
   "cell_type": "code",
   "execution_count": 60,
   "metadata": {},
   "outputs": [],
   "source": [
    "model.init_parameter_dict(n_users, n_items, train_tuple)"
   ]
  },
  {
   "cell_type": "code",
   "execution_count": 61,
   "metadata": {},
   "outputs": [
    {
     "data": {
      "text/plain": [
       "True"
      ]
     },
     "execution_count": 61,
     "metadata": {},
     "output_type": "execute_result"
    }
   ],
   "source": [
    "hasattr(model, 'param_dict')"
   ]
  },
  {
   "cell_type": "code",
   "execution_count": 62,
   "metadata": {},
   "outputs": [
    {
     "data": {
      "text/plain": [
       "{'mu': array([0.])}"
      ]
     },
     "execution_count": 62,
     "metadata": {},
     "output_type": "execute_result"
    }
   ],
   "source": [
    "model.param_dict"
   ]
  },
  {
   "cell_type": "code",
   "execution_count": 63,
   "metadata": {},
   "outputs": [
    {
     "name": "stdout",
     "output_type": "stream",
     "text": [
      "epoch       0.000 | loss_total    13.63800 | train_MAE     3.53059 | valid_MAE     3.50620 | grad_wrt_mu     7.03040\n",
      "epoch       0.143 | loss_total     9.33072 | train_MAE     2.82755 | valid_MAE     2.80316 | grad_wrt_mu     5.68192\n",
      "epoch       0.286 | loss_total     6.40404 | train_MAE     2.29264 | valid_MAE     2.26855 | grad_wrt_mu     4.53114\n",
      "epoch       0.429 | loss_total     4.49626 | train_MAE     1.89513 | valid_MAE     1.87153 | grad_wrt_mu     3.57311\n",
      "epoch       0.571 | loss_total     3.34473 | train_MAE     1.60017 | valid_MAE     1.57763 | grad_wrt_mu     2.88409\n",
      "epoch       0.714 | loss_total     2.60167 | train_MAE     1.41250 | valid_MAE     1.39264 | grad_wrt_mu     2.33007\n",
      "epoch       0.857 | loss_total     2.13770 | train_MAE     1.26089 | valid_MAE     1.24319 | grad_wrt_mu     1.89066\n",
      "epoch       1.000 | loss_total     1.81930 | train_MAE     1.13787 | valid_MAE     1.12192 | grad_wrt_mu     1.47312\n",
      "epoch       1.143 | loss_total     1.60887 | train_MAE     1.04201 | valid_MAE     1.02744 | grad_wrt_mu     1.19470\n",
      "epoch       1.286 | loss_total     1.48276 | train_MAE     0.99615 | valid_MAE     0.98384 | grad_wrt_mu     0.94656\n",
      "epoch       1.429 | loss_total     1.39611 | train_MAE     0.98578 | valid_MAE     0.97619 | grad_wrt_mu     0.76645\n",
      "epoch       1.571 | loss_total     1.38609 | train_MAE     0.97738 | valid_MAE     0.97000 | grad_wrt_mu     0.60596\n",
      "epoch       1.714 | loss_total     1.33862 | train_MAE     0.97073 | valid_MAE     0.96510 | grad_wrt_mu     0.43877\n",
      "epoch       1.857 | loss_total     1.29009 | train_MAE     0.96592 | valid_MAE     0.96156 | grad_wrt_mu     0.40301\n",
      "epoch       2.000 | loss_total     1.29220 | train_MAE     0.96150 | valid_MAE     0.95830 | grad_wrt_mu     0.32501\n",
      "epoch       2.571 | loss_total     1.29237 | train_MAE     0.95166 | valid_MAE     0.95105 | grad_wrt_mu     0.11410\n",
      "epoch       3.000 | loss_total     1.27363 | train_MAE     0.94778 | valid_MAE     0.94819 | grad_wrt_mu     0.01986\n",
      "epoch       3.571 | loss_total     1.26613 | train_MAE     0.94570 | valid_MAE     0.94665 | grad_wrt_mu     0.02854\n",
      "epoch       4.000 | loss_total     1.26373 | train_MAE     0.94509 | valid_MAE     0.94621 | grad_wrt_mu     0.01422\n",
      "epoch       4.571 | loss_total     1.26609 | train_MAE     0.94462 | valid_MAE     0.94586 | grad_wrt_mu     0.01143\n",
      "epoch       5.000 | loss_total     1.26920 | train_MAE     0.94468 | valid_MAE     0.94590 | grad_wrt_mu     0.01257\n",
      "epoch       5.571 | loss_total     1.26498 | train_MAE     0.94448 | valid_MAE     0.94575 | grad_wrt_mu     0.01655\n",
      "epoch       5.857 | loss_total     1.26739 | train_MAE     0.94435 | valid_MAE     0.94566 | grad_wrt_mu     0.02107\n"
     ]
    }
   ],
   "source": [
    "model.fit(train_tuple, valid_tuple)"
   ]
  },
  {
   "cell_type": "code",
   "execution_count": 64,
   "metadata": {},
   "outputs": [
    {
     "data": {
      "text/plain": [
       "{'mu': array([3.52932757])}"
      ]
     },
     "execution_count": 64,
     "metadata": {},
     "output_type": "execute_result"
    }
   ],
   "source": [
    "model.param_dict"
   ]
  },
  {
   "cell_type": "code",
   "execution_count": 65,
   "metadata": {},
   "outputs": [
    {
     "data": {
      "text/plain": [
       "0.9448600413694656"
      ]
     },
     "execution_count": 65,
     "metadata": {},
     "output_type": "execute_result"
    }
   ],
   "source": [
    "np.mean(np.abs(model.predict(userids_te_N, itemids_te_N, model.param_dict['mu'])-ratings_te_N))"
   ]
  },
  {
   "cell_type": "code",
   "execution_count": 66,
   "metadata": {},
   "outputs": [
    {
     "data": {
      "text/plain": [
       "0.945830332127338"
      ]
     },
     "execution_count": 66,
     "metadata": {},
     "output_type": "execute_result"
    }
   ],
   "source": [
    "np.mean(np.abs(model.predict(userids_va_N, itemids_va_N, model.param_dict['mu'])-ratings_va_N))"
   ]
  },
  {
   "cell_type": "code",
   "execution_count": 77,
   "metadata": {},
   "outputs": [
    {
     "data": {
      "text/plain": [
       "(0.8, 1.0)"
      ]
     },
     "execution_count": 77,
     "metadata": {},
     "output_type": "execute_result"
    },
    {
     "data": {
      "image/png": "[encoded data removed]",
      "text/plain": [
       "<Figure size 576x396 with 1 Axes>"
      ]
     },
     "metadata": {},
     "output_type": "display_data"
    }
   ],
   "source": [
    "plt.plot(model.trace_epoch, model.trace_mae_train, 'b.-', label='MAE on train')\n",
    "plt.plot(model.trace_epoch, model.trace_mae_valid, 'r.-', label='MAE on valid')\n",
    "\n",
    "plt.xlabel('epoch');\n",
    "plt.ylabel('mean absolute error');\n",
    "plt.legend(loc='lower right');\n",
    "plt.ylim([0.8, 1])"
   ]
  },
  {
   "cell_type": "code",
   "execution_count": 67,
   "metadata": {},
   "outputs": [],
   "source": [
    "# Create the model\n",
    "model2 = CollabFilterMeanOnly(\n",
    "    n_epochs=6, batch_size=100, step_size=0.1)"
   ]
  },
  {
   "cell_type": "code",
   "execution_count": 68,
   "metadata": {},
   "outputs": [],
   "source": [
    "model2.init_parameter_dict(n_users, n_items, train_tuple)"
   ]
  },
  {
   "cell_type": "code",
   "execution_count": 69,
   "metadata": {},
   "outputs": [
    {
     "name": "stdout",
     "output_type": "stream",
     "text": [
      "epoch       0.000 | loss_total    13.41000 | train_MAE     3.53059 | valid_MAE     3.50620 | grad_wrt_mu     7.02000\n",
      "epoch       0.001 | loss_total     9.65436 | train_MAE     2.82859 | valid_MAE     2.80420 | grad_wrt_mu     5.81600\n",
      "epoch       0.003 | loss_total     6.51272 | train_MAE     2.28179 | valid_MAE     2.25771 | grad_wrt_mu     4.57280\n",
      "epoch       0.004 | loss_total     4.21487 | train_MAE     1.88062 | valid_MAE     1.85704 | grad_wrt_mu     3.55824\n",
      "epoch       0.126 | loss_total     1.22742 | train_MAE     0.95181 | valid_MAE     0.95115 | grad_wrt_mu     0.51310\n",
      "epoch       0.250 | loss_total     1.14284 | train_MAE     0.93184 | valid_MAE     0.93644 | grad_wrt_mu     0.37114\n",
      "epoch       0.376 | loss_total     1.27709 | train_MAE     0.94347 | valid_MAE     0.94501 | grad_wrt_mu     0.21898\n",
      "epoch       0.500 | loss_total     1.54991 | train_MAE     0.94859 | valid_MAE     0.94878 | grad_wrt_mu     0.00558\n",
      "epoch       0.626 | loss_total     0.87029 | train_MAE     0.94674 | valid_MAE     0.94742 | grad_wrt_mu     0.03931\n",
      "epoch       0.750 | loss_total     1.25028 | train_MAE     0.94792 | valid_MAE     0.94829 | grad_wrt_mu     0.26212\n",
      "epoch       0.876 | loss_total     1.41319 | train_MAE     0.94081 | valid_MAE     0.94305 | grad_wrt_mu     0.42748\n",
      "epoch       1.000 | loss_total     1.35717 | train_MAE     0.93955 | valid_MAE     0.94212 | grad_wrt_mu     0.17048\n",
      "epoch       1.126 | loss_total     1.03875 | train_MAE     0.94179 | valid_MAE     0.94377 | grad_wrt_mu     0.15029\n",
      "epoch       1.250 | loss_total     1.08762 | train_MAE     0.94598 | valid_MAE     0.94686 | grad_wrt_mu     0.12680\n",
      "epoch       1.376 | loss_total     1.28960 | train_MAE     0.94579 | valid_MAE     0.94672 | grad_wrt_mu     0.00326\n",
      "epoch       1.500 | loss_total     1.22329 | train_MAE     0.94564 | valid_MAE     0.94661 | grad_wrt_mu     0.32056\n",
      "epoch       1.626 | loss_total     1.42648 | train_MAE     0.94218 | valid_MAE     0.94406 | grad_wrt_mu     0.01755\n",
      "epoch       1.750 | loss_total     1.26247 | train_MAE     0.95512 | valid_MAE     0.95359 | grad_wrt_mu     0.25354\n",
      "epoch       1.876 | loss_total     1.25525 | train_MAE     0.93502 | valid_MAE     0.93878 | grad_wrt_mu     0.33315\n",
      "epoch       2.000 | loss_total     1.22736 | train_MAE     0.94664 | valid_MAE     0.94734 | grad_wrt_mu     0.23881\n",
      "epoch       2.500 | loss_total     1.27124 | train_MAE     0.93952 | valid_MAE     0.94209 | grad_wrt_mu     0.12888\n",
      "epoch       3.000 | loss_total     1.26899 | train_MAE     0.94454 | valid_MAE     0.94580 | grad_wrt_mu     0.04058\n",
      "epoch       3.500 | loss_total     1.26829 | train_MAE     0.94665 | valid_MAE     0.94735 | grad_wrt_mu     0.11896\n",
      "epoch       4.000 | loss_total     1.26901 | train_MAE     0.94886 | valid_MAE     0.94898 | grad_wrt_mu     0.15937\n",
      "epoch       4.500 | loss_total     1.26713 | train_MAE     0.94287 | valid_MAE     0.94456 | grad_wrt_mu     0.40999\n",
      "epoch       5.000 | loss_total     1.26869 | train_MAE     0.94802 | valid_MAE     0.94836 | grad_wrt_mu     0.22407\n",
      "epoch       5.500 | loss_total     1.27005 | train_MAE     0.94547 | valid_MAE     0.94648 | grad_wrt_mu     0.37744\n",
      "epoch       5.999 | loss_total     1.26882 | train_MAE     0.95037 | valid_MAE     0.95009 | grad_wrt_mu     0.27314\n"
     ]
    }
   ],
   "source": [
    "model2.fit(train_tuple, valid_tuple)"
   ]
  },
  {
   "cell_type": "code",
   "execution_count": 70,
   "metadata": {},
   "outputs": [
    {
     "data": {
      "text/plain": [
       "{'mu': array([3.44925516])}"
      ]
     },
     "execution_count": 70,
     "metadata": {},
     "output_type": "execute_result"
    }
   ],
   "source": [
    "model2.param_dict"
   ]
  },
  {
   "cell_type": "code",
   "execution_count": 71,
   "metadata": {},
   "outputs": [
    {
     "data": {
      "text/plain": [
       "0.95230018331094"
      ]
     },
     "execution_count": 71,
     "metadata": {},
     "output_type": "execute_result"
    }
   ],
   "source": [
    "np.mean(np.abs(model2.predict(userids_va_N, itemids_va_N, model2.param_dict['mu'])-ratings_va_N))"
   ]
  },
  {
   "cell_type": "code",
   "execution_count": 72,
   "metadata": {},
   "outputs": [
    {
     "data": {
      "text/plain": [
       "0.9544123151326016"
      ]
     },
     "execution_count": 72,
     "metadata": {},
     "output_type": "execute_result"
    }
   ],
   "source": [
    "np.mean(np.abs(model2.predict(userids_te_N, itemids_te_N, model2.param_dict['mu'])-ratings_te_N))"
   ]
  },
  {
   "cell_type": "code",
   "execution_count": 76,
   "metadata": {},
   "outputs": [
    {
     "data": {
      "text/plain": [
       "(0.8, 1.0)"
      ]
     },
     "execution_count": 76,
     "metadata": {},
     "output_type": "execute_result"
    },
    {
     "data": {
      "image/png": "[encoded data removed]",
      "text/plain": [
       "<Figure size 576x396 with 1 Axes>"
      ]
     },
     "metadata": {},
     "output_type": "display_data"
    }
   ],
   "source": [
    "plt.plot(model2.trace_epoch, model2.trace_mae_train, 'b.-', label='MAE on train')\n",
    "plt.plot(model2.trace_epoch, model2.trace_mae_valid, 'r.-', label='MAE on valid')\n",
    "\n",
    "plt.xlabel('epoch');\n",
    "plt.ylabel('mean absolute error');\n",
    "plt.legend(loc='lower right');\n",
    "plt.ylim([0.8, 1])"
   ]
  },
  {
   "cell_type": "markdown",
   "metadata": {},
   "source": [
    "# Problem 2"
   ]
  },
  {
   "cell_type": "code",
   "execution_count": 105,
   "metadata": {},
   "outputs": [],
   "source": [
    "import CollabFilterOneScalarPerItem\n",
    "import importlib\n",
    "importlib.reload(CollabFilterOneScalarPerItem)\n",
    "from CollabFilterOneScalarPerItem import CollabFilterOneScalarPerItem"
   ]
  },
  {
   "cell_type": "code",
   "execution_count": 106,
   "metadata": {},
   "outputs": [],
   "source": [
    "# Create the model\n",
    "prob2model = CollabFilterOneScalarPerItem(\n",
    "    n_epochs=6, batch_size=10000, step_size=0.1)"
   ]
  },
  {
   "cell_type": "code",
   "execution_count": 107,
   "metadata": {},
   "outputs": [],
   "source": [
    "prob2model.init_parameter_dict(n_users, n_items, train_tuple)"
   ]
  },
  {
   "cell_type": "code",
   "execution_count": 108,
   "metadata": {},
   "outputs": [
    {
     "data": {
      "text/plain": [
       "array([0.])"
      ]
     },
     "execution_count": 108,
     "metadata": {},
     "output_type": "execute_result"
    }
   ],
   "source": [
    "prob2model.param_dict['mu']"
   ]
  },
  {
   "cell_type": "code",
   "execution_count": 109,
   "metadata": {},
   "outputs": [
    {
     "name": "stdout",
     "output_type": "stream",
     "text": [
      "epoch       0.000 | loss_total    13.63800 | train_MAE     3.53059 | valid_MAE     3.50620 | grad_wrt_mu     7.03040 | grad_wrt_b_per_user     0.00746 | grad_wrt_c_per_item     0.00418\n",
      "epoch       0.143 | loss_total     9.31544 | train_MAE     2.82493 | valid_MAE     2.80057 | grad_wrt_mu     5.67669 | grad_wrt_b_per_user     0.00602 | grad_wrt_c_per_item     0.00337\n",
      "epoch       0.286 | loss_total     6.38398 | train_MAE     2.28881 | valid_MAE     2.26477 | grad_wrt_mu     4.52272 | grad_wrt_b_per_user     0.00480 | grad_wrt_c_per_item     0.00269\n",
      "epoch       0.429 | loss_total     4.47692 | train_MAE     1.89048 | valid_MAE     1.86695 | grad_wrt_mu     3.56305 | grad_wrt_b_per_user     0.00379 | grad_wrt_c_per_item     0.00213\n",
      "epoch       0.571 | loss_total     3.32746 | train_MAE     1.59617 | valid_MAE     1.57374 | grad_wrt_mu     2.87334 | grad_wrt_b_per_user     0.00307 | grad_wrt_c_per_item     0.00174\n",
      "epoch       0.714 | loss_total     2.58673 | train_MAE     1.40839 | valid_MAE     1.38865 | grad_wrt_mu     2.31917 | grad_wrt_b_per_user     0.00252 | grad_wrt_c_per_item     0.00143\n",
      "epoch       0.857 | loss_total     2.12558 | train_MAE     1.25680 | valid_MAE     1.23923 | grad_wrt_mu     1.88045 | grad_wrt_b_per_user     0.00209 | grad_wrt_c_per_item     0.00120\n",
      "epoch       1.000 | loss_total     1.80879 | train_MAE     1.13388 | valid_MAE     1.11807 | grad_wrt_mu     1.46322 | grad_wrt_b_per_user     0.00170 | grad_wrt_c_per_item     0.00101\n",
      "epoch       1.143 | loss_total     1.60019 | train_MAE     1.03820 | valid_MAE     1.02376 | grad_wrt_mu     1.18578 | grad_wrt_b_per_user     0.00144 | grad_wrt_c_per_item     0.00088\n",
      "epoch       1.286 | loss_total     1.47526 | train_MAE     0.99429 | valid_MAE     0.98219 | grad_wrt_mu     0.93844 | grad_wrt_b_per_user     0.00124 | grad_wrt_c_per_item     0.00078\n",
      "epoch       1.429 | loss_total     1.38922 | train_MAE     0.98383 | valid_MAE     0.97445 | grad_wrt_mu     0.75916 | grad_wrt_b_per_user     0.00116 | grad_wrt_c_per_item     0.00071\n",
      "epoch       1.571 | loss_total     1.37965 | train_MAE     0.97534 | valid_MAE     0.96817 | grad_wrt_mu     0.59958 | grad_wrt_b_per_user     0.00106 | grad_wrt_c_per_item     0.00067\n",
      "epoch       1.714 | loss_total     1.33231 | train_MAE     0.96861 | valid_MAE     0.96318 | grad_wrt_mu     0.43338 | grad_wrt_b_per_user     0.00097 | grad_wrt_c_per_item     0.00065\n",
      "epoch       1.857 | loss_total     1.28383 | train_MAE     0.96370 | valid_MAE     0.95954 | grad_wrt_mu     0.39795 | grad_wrt_b_per_user     0.00095 | grad_wrt_c_per_item     0.00063\n",
      "epoch       2.000 | loss_total     1.28588 | train_MAE     0.95919 | valid_MAE     0.95619 | grad_wrt_mu     0.32097 | grad_wrt_b_per_user     0.00094 | grad_wrt_c_per_item     0.00062\n",
      "epoch       2.571 | loss_total     1.28578 | train_MAE     0.94894 | valid_MAE     0.94853 | grad_wrt_mu     0.11188 | grad_wrt_b_per_user     0.00090 | grad_wrt_c_per_item     0.00059\n",
      "epoch       3.000 | loss_total     1.26631 | train_MAE     0.94472 | valid_MAE     0.94534 | grad_wrt_mu     0.01864 | grad_wrt_b_per_user     0.00087 | grad_wrt_c_per_item     0.00057\n",
      "epoch       3.571 | loss_total     1.25758 | train_MAE     0.94218 | valid_MAE     0.94335 | grad_wrt_mu     0.02790 | grad_wrt_b_per_user     0.00088 | grad_wrt_c_per_item     0.00056\n",
      "epoch       4.000 | loss_total     1.25419 | train_MAE     0.94120 | valid_MAE     0.94255 | grad_wrt_mu     0.01366 | grad_wrt_b_per_user     0.00087 | grad_wrt_c_per_item     0.00056\n",
      "epoch       4.571 | loss_total     1.25509 | train_MAE     0.94023 | valid_MAE     0.94173 | grad_wrt_mu     0.01060 | grad_wrt_b_per_user     0.00086 | grad_wrt_c_per_item     0.00057\n",
      "epoch       5.000 | loss_total     1.25726 | train_MAE     0.93993 | valid_MAE     0.94143 | grad_wrt_mu     0.01249 | grad_wrt_b_per_user     0.00086 | grad_wrt_c_per_item     0.00056\n",
      "epoch       5.571 | loss_total     1.25163 | train_MAE     0.93923 | valid_MAE     0.94081 | grad_wrt_mu     0.01678 | grad_wrt_b_per_user     0.00088 | grad_wrt_c_per_item     0.00056\n",
      "epoch       5.857 | loss_total     1.25331 | train_MAE     0.93886 | valid_MAE     0.94048 | grad_wrt_mu     0.02110 | grad_wrt_b_per_user     0.00088 | grad_wrt_c_per_item     0.00057\n"
     ]
    }
   ],
   "source": [
    "prob2model.fit(train_tuple, valid_tuple)"
   ]
  },
  {
   "cell_type": "code",
   "execution_count": 110,
   "metadata": {},
   "outputs": [
    {
     "data": {
      "text/plain": [
       "{'mu': array([3.51554266]),\n",
       " 'b_per_user': array([ 1.29115470e-02,  2.52844568e-03, -1.74189799e-03,  2.51419427e-03,\n",
       "        -2.02218243e-03,  9.05535885e-03,  3.11462109e-02,  4.44829070e-03,\n",
       "         1.83731916e-03,  1.67760427e-02,  4.10140088e-03,  4.94326225e-03,\n",
       "        -3.68897194e-03,  8.77045275e-03, -1.87100140e-03,  1.54400147e-02,\n",
       "         3.65120522e-05,  1.76431122e-02,  6.45246292e-04, -6.38893560e-05,\n",
       "        -6.82610350e-03,  1.88108353e-03,  7.40319861e-03,  7.28210504e-03,\n",
       "         5.09918308e-03, -1.61586727e-03,  1.70114785e-04,  4.32452972e-03,\n",
       "         1.47481675e-03,  2.42555275e-03,  2.79986726e-03,  5.49454014e-04,\n",
       "         1.64463792e-03,  1.43810234e-03,  7.63514801e-05,  6.08569174e-04,\n",
       "         2.41635961e-03,  5.82722523e-03,  9.12208216e-04, -3.37345635e-04,\n",
       "         2.63918302e-03,  9.81943068e-03,  1.05351851e-02,  6.83962797e-03,\n",
       "         2.02748188e-03,  2.11084452e-03,  1.20178719e-03,  3.91029693e-03,\n",
       "        -7.14675025e-03,  6.34742098e-04,  3.01571797e-04,  4.45652440e-03,\n",
       "         1.58878944e-03,  2.88766687e-03,  2.78782287e-04,  7.98517310e-03,\n",
       "         3.87778955e-03,  9.24380186e-03,  2.59955373e-02,  1.71156560e-02,\n",
       "        -5.87909900e-04,  5.55612233e-03, -3.32588449e-04,  8.63083958e-03,\n",
       "         4.93403822e-03,  1.17435413e-03,  1.73833162e-03, -4.29807467e-04,\n",
       "         3.89602059e-03,  3.54716560e-03,  2.98063482e-03,  8.43292704e-03,\n",
       "         4.19263966e-03,  1.77886437e-03,  1.33497082e-03,  2.80774791e-03,\n",
       "         2.19306733e-03,  1.00596957e-04,  4.90932444e-03,  1.68280978e-03,\n",
       "         6.03750647e-04, -5.57045809e-04,  3.80130620e-03,  4.33845034e-03,\n",
       "         9.30956589e-03,  6.01469655e-04,  1.36277986e-02,  1.22868884e-03,\n",
       "         5.96448421e-03,  2.93950367e-02,  5.52424788e-03,  5.07115632e-03,\n",
       "         4.25096770e-04,  1.87370380e-02,  6.72414382e-03,  5.31775669e-03,\n",
       "         5.33413522e-03,  6.22649775e-04,  5.26897572e-03, -7.06636051e-04,\n",
       "        -9.18463601e-04, -8.04568791e-03,  1.38933368e-03, -4.37420661e-03,\n",
       "         7.20363150e-04,  4.10295057e-03,  2.24194030e-04,  1.07116794e-03,\n",
       "         6.13794967e-03, -1.25306846e-03,  7.94128382e-04,  2.78464075e-03,\n",
       "         2.42082735e-03,  1.93942404e-03,  4.72356131e-03, -2.09515344e-03,\n",
       "         5.55660013e-03,  9.21011754e-03,  1.35419133e-02,  1.13205903e-03,\n",
       "         3.50325809e-03,  4.82265538e-03,  2.91986837e-03,  7.01485783e-04,\n",
       "         6.07025047e-03,  2.45761420e-03,  2.32270209e-03,  9.10116899e-03,\n",
       "        -1.87359542e-03,  2.76422154e-02,  3.19535473e-03,  1.23898933e-03,\n",
       "         2.96497109e-04,  1.09477218e-03,  1.32650878e-03,  3.12858491e-03,\n",
       "         4.85230903e-03,  4.99650843e-03,  2.42580761e-03,  2.08157807e-04,\n",
       "         2.37630355e-03,  1.69988081e-03,  1.68047766e-03,  1.08894870e-02,\n",
       "         7.12079291e-03,  1.37109007e-03,  1.82336609e-03,  4.59280146e-03,\n",
       "        -6.18707408e-04,  2.08183526e-03,  2.30790085e-02,  1.05614991e-02,\n",
       "         2.59262594e-04,  2.60496972e-03, -8.49355019e-04,  1.85917561e-03,\n",
       "         3.91073394e-03,  9.27748394e-03,  2.65273758e-03,  8.42886464e-03,\n",
       "        -2.64231058e-03,  1.25068698e-03,  3.74565202e-04,  4.09968631e-03,\n",
       "         1.85441460e-03,  1.21240379e-03,  1.07221083e-03,  9.02498207e-04,\n",
       "         2.05371331e-03,  9.06773600e-04,  1.27116689e-03,  1.45114487e-04,\n",
       "         4.51219976e-03,  5.41187478e-03,  1.85557851e-03,  2.56574205e-03,\n",
       "         4.21393442e-03,  1.09873586e-02, -7.21594701e-05,  4.79214085e-03,\n",
       "        -6.05338628e-02,  2.05832902e-03,  2.88137264e-04,  1.24690575e-02,\n",
       "         3.81214590e-03,  2.89793225e-03,  5.23910754e-03,  7.18175919e-03,\n",
       "         1.55312422e-02,  7.40738558e-04,  1.07214095e-03,  1.33504527e-03,\n",
       "         5.31026901e-04, -4.20975282e-03,  1.69390873e-03,  1.91100239e-03,\n",
       "         1.46534847e-03,  3.10434926e-03, -1.72276316e-04,  1.91467481e-02,\n",
       "        -2.29823132e-03, -4.51713067e-04,  1.60878452e-03,  1.35247531e-03,\n",
       "        -3.98320213e-04, -5.10636231e-03,  1.98869243e-03,  1.72047644e-03,\n",
       "         2.09575758e-05,  9.85356600e-03,  2.44240251e-04,  1.39893660e-03,\n",
       "         1.05850861e-02,  7.30720624e-03,  4.94716085e-03,  6.68799195e-03,\n",
       "        -1.14851203e-03,  2.36914261e-03,  1.30083863e-03,  1.57342790e-03,\n",
       "         7.07860772e-03, -1.33151490e-03,  4.34696188e-04, -8.47744635e-04,\n",
       "         3.86678334e-03,  3.04908885e-03,  1.91148860e-03,  2.15690132e-04,\n",
       "        -1.48888282e-03,  7.80034879e-03,  1.07090036e-03,  6.78432932e-03,\n",
       "         1.04349938e-02,  7.35583382e-04,  6.43825945e-03,  2.20863521e-03,\n",
       "         4.10225165e-03,  5.65728884e-04,  1.25317252e-02,  8.92440511e-04,\n",
       "         7.50239555e-04,  2.04558077e-03,  4.02515968e-03,  1.23327716e-02,\n",
       "         8.44786290e-04, -5.11931856e-03,  1.54815650e-03,  2.12725187e-03,\n",
       "         1.39726270e-02,  6.90259531e-03,  4.63509235e-03,  1.62167545e-03,\n",
       "         7.72620467e-03, -7.92258701e-05, -3.88910497e-03,  1.47497477e-02,\n",
       "         4.70209167e-03,  9.58651723e-04,  3.45778127e-03,  1.60864377e-03,\n",
       "         2.07545137e-03,  1.86538243e-03,  1.07712556e-02,  1.27046819e-02,\n",
       "         1.23640614e-03,  4.38424687e-04,  1.31173682e-02, -2.62847675e-03,\n",
       "        -1.85516765e-03,  1.31499202e-02,  1.11033520e-02,  5.23195706e-03,\n",
       "         1.21349691e-03,  5.54665485e-03,  6.09216044e-04,  1.30268220e-02,\n",
       "         2.06814018e-03,  1.67759444e-03,  5.14825593e-03,  1.14827841e-02,\n",
       "         3.80791809e-05,  5.72442291e-04,  4.91779462e-03,  1.95514227e-03,\n",
       "         1.66858810e-03,  1.39018308e-02,  5.52339810e-03,  4.23721833e-03,\n",
       "         2.60460619e-04,  3.95699071e-03,  1.40677263e-02,  1.06505308e-02,\n",
       "        -2.90697909e-03,  3.79164257e-03,  1.86198495e-02,  1.41687947e-02,\n",
       "         4.77156740e-03,  1.10221034e-02,  7.68694341e-03,  1.17719149e-03,\n",
       "         9.20326482e-03, -4.08089223e-04,  1.00470850e-02,  5.79696264e-04,\n",
       "         4.65666037e-03,  2.00151474e-03,  6.07160693e-03,  2.01134716e-02,\n",
       "         9.50488634e-04,  1.30578512e-03,  1.63289956e-02,  2.28011878e-02,\n",
       "         1.11926898e-02,  1.41910052e-02,  7.02198303e-03,  1.29024408e-03,\n",
       "         8.46563358e-04,  8.29465399e-03,  8.07335024e-04,  7.15361170e-03,\n",
       "         6.31262991e-03,  5.75232070e-03,  4.17287819e-03,  7.97657934e-03,\n",
       "         4.63133471e-03,  3.06731722e-03,  5.30476032e-03,  8.33605008e-03,\n",
       "         9.75616778e-04,  1.74062003e-02,  2.83140350e-03,  1.50359821e-02,\n",
       "         1.45997960e-03,  1.00188114e-02,  1.39893102e-03, -3.30527770e-03,\n",
       "         2.16827313e-03,  6.17461480e-03,  1.83712984e-02,  4.46486177e-03,\n",
       "         1.07090224e-03,  5.45684234e-03,  1.71119377e-02,  9.45334537e-03,\n",
       "         1.16701865e-02,  1.12060075e-03,  7.03044740e-03,  3.53180524e-03,\n",
       "         8.57655185e-04,  4.97125234e-03,  3.45476293e-03,  1.30264940e-03,\n",
       "         9.95823893e-04,  1.31702498e-02,  1.99380550e-03,  8.11779129e-04,\n",
       "         6.94053226e-03,  1.77066597e-03,  1.76773911e-03,  7.50420648e-03,\n",
       "         7.97015145e-03,  4.00022572e-04, -1.65942759e-03,  4.09611525e-04,\n",
       "         1.42813445e-03,  3.82061574e-03,  5.08935528e-03,  1.42944008e-03,\n",
       "         1.82353060e-03,  3.83524091e-03,  4.21074307e-03,  7.41886336e-03,\n",
       "         1.28384864e-02,  4.50526791e-03,  1.85012217e-03,  1.43801742e-03,\n",
       "         1.62203817e-03,  9.71529996e-03,  1.36908079e-02,  1.44050898e-03,\n",
       "         6.80949697e-03,  2.01270353e-03,  7.57158265e-03,  2.15028743e-03,\n",
       "         5.46822102e-03,  1.40899911e-03,  5.01821958e-03,  3.84393677e-03,\n",
       "         1.28557606e-02,  2.37493676e-03,  7.21141581e-03,  8.92018667e-03,\n",
       "         8.97589979e-03,  1.04322821e-02,  3.26221912e-03,  1.25087232e-03,\n",
       "         5.47740642e-03,  7.86595899e-03, -4.16777577e-03,  9.93281719e-04,\n",
       "         5.62264544e-04,  4.51900156e-03,  2.40549168e-03,  8.03978038e-04,\n",
       "        -7.84505588e-02,  1.23992479e-02,  7.74616131e-03,  7.48750375e-04,\n",
       "         7.91727243e-03,  2.54982992e-05,  3.02185622e-03,  3.06954800e-03,\n",
       "         2.06066613e-03,  9.90935056e-04,  2.33921251e-03,  3.13083125e-02,\n",
       "         5.01434527e-03, -6.20565923e-04,  2.77476942e-03,  3.23114947e-03,\n",
       "         4.51824894e-03,  3.38468628e-03,  2.98848066e-03,  8.93088951e-04,\n",
       "        -2.84646970e-03,  7.69023805e-03,  3.22318123e-03,  4.33886979e-03,\n",
       "         8.66133418e-03,  1.90366084e-03,  6.53329579e-04,  3.73371553e-03,\n",
       "         1.47453919e-03,  5.56539609e-04,  6.78921086e-03,  6.90853692e-03,\n",
       "         1.06524209e-02,  2.42461839e-03,  2.00699645e-03,  4.47602043e-03,\n",
       "         5.97546235e-04,  1.98132107e-04,  2.92533461e-04,  1.26105152e-03,\n",
       "        -1.25167575e-02, -1.06738253e-03,  4.90829947e-03,  5.86964078e-04,\n",
       "         3.88151323e-03,  3.08922690e-02, -3.46216724e-03,  3.66994486e-03,\n",
       "         1.73923263e-03, -2.78903364e-03,  6.00068854e-03,  6.26224441e-03,\n",
       "         2.24332770e-02,  7.54242805e-03,  2.10304357e-03,  2.64435820e-03,\n",
       "        -1.34207024e-04,  3.21273660e-03, -2.04177736e-03,  4.29782849e-03,\n",
       "         3.03508752e-03,  3.67338339e-03,  1.47570371e-03,  1.06698832e-02,\n",
       "         4.08607292e-03,  2.17368443e-03,  1.01467715e-03,  2.46647563e-02,\n",
       "         2.82678804e-03,  2.47468671e-02,  6.26961347e-04,  1.66371544e-03,\n",
       "         3.25032410e-03,  3.88052944e-03,  5.01642702e-03,  2.40556926e-03,\n",
       "         4.17982515e-03,  7.84425589e-04, -1.24855828e-05,  1.03049287e-02,\n",
       "         2.40598206e-04,  7.46890801e-04,  1.12109402e-02,  4.80901402e-03,\n",
       "         6.11317680e-03, -1.90901456e-03,  2.54963134e-03,  8.38878343e-04,\n",
       "         6.41334425e-03,  3.48988097e-03,  1.72530174e-02, -9.99834926e-04,\n",
       "         1.77554359e-03,  1.96018923e-03,  6.92256563e-03,  4.35676117e-03,\n",
       "         3.09673488e-03, -2.90092189e-04,  1.24607780e-02,  1.04904896e-02,\n",
       "         2.05099391e-03,  1.15444824e-02,  7.34187488e-03,  6.95373008e-03,\n",
       "        -1.80570601e-03, -6.41221060e-04,  8.79975087e-04,  2.81347307e-03,\n",
       "         1.53535257e-03,  1.27625088e-02, -3.27829347e-04,  1.27132951e-03,\n",
       "         6.55300966e-04,  3.30911477e-03,  4.81260788e-03,  4.74125625e-04,\n",
       "         3.49128817e-04,  3.07780777e-03,  1.01341390e-02,  1.04505986e-02,\n",
       "         8.04689864e-05,  3.35385977e-04,  8.74735615e-03,  2.31223402e-03,\n",
       "         1.77943622e-03,  2.31577624e-03,  9.83308937e-04,  2.65876589e-02,\n",
       "         6.18154994e-03,  6.66249740e-03,  1.73036185e-02,  1.05829655e-02,\n",
       "        -9.37422018e-03,  4.21636515e-03,  4.25434823e-03,  2.91941038e-03,\n",
       "         5.00493144e-03,  4.27854183e-03,  7.98967254e-03, -1.33340393e-03,\n",
       "         6.73545282e-03,  4.91410935e-03,  1.09968576e-03,  6.21152817e-03,\n",
       "         1.00586106e-03,  1.78641483e-03,  1.81995887e-02, -4.32598528e-04,\n",
       "         8.45919393e-03,  3.81180675e-03,  4.96639634e-03,  3.82066513e-03,\n",
       "         3.37383561e-03,  1.78899563e-03,  2.70880235e-03,  2.50049213e-03,\n",
       "        -4.37756586e-03,  3.30524651e-03,  9.14679951e-04,  1.18517649e-03,\n",
       "         4.15718388e-03,  2.49849055e-03,  8.98791022e-03,  1.86589622e-03,\n",
       "         2.12356736e-03, -8.48989353e-04,  4.39937110e-04,  2.36324730e-04,\n",
       "         2.87791221e-03,  2.24677739e-03, -4.42307517e-05,  1.09679803e-03,\n",
       "         1.10969678e-02, -7.10673037e-04,  1.98771181e-03,  2.15660571e-03,\n",
       "         1.70086725e-03,  1.05075234e-03,  2.25784652e-03,  9.86698805e-04,\n",
       "         4.21301216e-03,  3.20155503e-03, -1.99842414e-03,  1.02969692e-02,\n",
       "         6.57708239e-04,  6.52757842e-04,  4.31774251e-03,  2.14046319e-02,\n",
       "         7.62431537e-03,  7.21027307e-04,  1.21888177e-03,  2.58589079e-04,\n",
       "         1.78151809e-03,  1.15382759e-03,  3.51871562e-03,  2.13355464e-03,\n",
       "        -1.34097287e-04,  1.82548520e-03,  2.65091171e-03,  3.05148215e-04,\n",
       "         4.93848860e-03,  1.72294034e-02,  2.08932826e-03,  6.41342356e-03,\n",
       "        -2.67184807e-03,  3.49595205e-03,  3.27234667e-03,  7.28768603e-04,\n",
       "         1.95611875e-03,  4.45160888e-04,  5.55573187e-03,  1.69579076e-03,\n",
       "        -2.85609070e-03,  3.22927185e-03,  3.70510888e-03,  7.09628992e-03,\n",
       "         7.60210749e-03,  4.25296935e-03,  1.98916593e-03,  5.45467485e-03,\n",
       "         2.98996229e-03, -3.05242373e-03,  2.78167517e-03,  3.52824055e-03,\n",
       "         1.08041345e-02,  1.92127179e-03, -1.20947690e-04,  6.35416528e-03,\n",
       "         8.28657546e-04,  3.35773210e-03,  6.39953966e-05,  2.21883151e-03,\n",
       "        -4.34571921e-03,  2.30950897e-03, -1.05290433e-03,  1.08241567e-02,\n",
       "         3.07088133e-03,  1.30278971e-02,  1.11145373e-02,  3.60907556e-03,\n",
       "         7.97710891e-03, -8.59952502e-04,  3.48249971e-03,  3.92351139e-03,\n",
       "         1.10056934e-03,  1.12449422e-03,  3.54225938e-04,  3.46658828e-04,\n",
       "        -1.21968545e-02,  6.62422837e-03, -8.74073229e-03, -1.39110992e-03,\n",
       "         3.55723022e-04,  3.87173575e-03,  1.02583732e-02, -9.48103158e-03,\n",
       "         7.17189008e-03,  1.15626686e-03,  4.99897643e-03,  8.48135197e-03,\n",
       "         4.99612762e-03,  1.05015839e-02,  3.43744043e-03,  1.39778337e-03,\n",
       "         2.94912643e-03,  2.91307759e-03,  4.03066582e-03, -4.26441528e-04,\n",
       "         1.72309304e-03,  1.48824044e-03,  2.43223237e-03,  4.82904042e-03,\n",
       "         1.62600060e-03,  7.81932278e-04,  2.67809788e-03,  3.63338885e-03,\n",
       "         5.36420634e-04,  1.84341313e-03,  6.66373718e-04,  3.51834666e-03,\n",
       "        -1.90446120e-03,  8.38993631e-03,  7.65606834e-04,  2.46333139e-03,\n",
       "         1.48016415e-03,  5.39174525e-04,  3.71911524e-03,  8.11737749e-04,\n",
       "         1.01773323e-03,  1.25806447e-02,  1.02739394e-03,  2.25219128e-03,\n",
       "         5.35131328e-03, -3.76775020e-03,  1.05455577e-03,  1.41548615e-03,\n",
       "         3.27847742e-03, -2.02144993e-03,  1.09528071e-03,  4.92867282e-03,\n",
       "         6.82265833e-03,  5.38395695e-05,  7.77924021e-03, -3.67645304e-04,\n",
       "         4.51152577e-03,  3.97467426e-03,  1.20065799e-02,  9.03507375e-03,\n",
       "        -3.86182797e-04,  9.60617597e-04,  4.40099800e-03,  1.56754993e-02,\n",
       "         5.50544942e-03,  2.01669808e-03, -1.01271827e-04,  1.76281911e-03,\n",
       "         5.65801621e-03,  1.84556323e-03,  1.26012885e-04, -6.55956057e-03,\n",
       "         1.09918678e-03, -2.05768153e-04, -1.26118222e-03,  8.80618677e-04,\n",
       "        -4.10618626e-04,  4.05926967e-05,  2.23158697e-03,  1.35581252e-03,\n",
       "         3.17927188e-04,  1.64081418e-03,  1.37822991e-03,  3.91663814e-05,\n",
       "         3.31291336e-03,  6.23583725e-03,  1.38009916e-03,  7.86344553e-04,\n",
       "         2.87355615e-03,  9.75633731e-04,  1.89910192e-03,  1.56802762e-03,\n",
       "        -6.88979676e-04,  2.81145072e-03,  2.14067390e-02,  5.33445263e-03,\n",
       "         1.18556874e-02,  4.25062422e-04,  5.71310222e-03,  5.19758480e-04,\n",
       "         3.73183389e-03,  1.18661705e-03, -1.25776948e-04,  6.39988265e-04,\n",
       "         3.57778706e-03,  2.05684504e-02,  2.50156748e-03,  4.66836835e-04,\n",
       "        -2.15496352e-03, -3.97850515e-05,  6.59978782e-03,  5.61062377e-03,\n",
       "         2.37333153e-03,  3.48962273e-03,  4.02775991e-03,  1.32226427e-03,\n",
       "         1.39390267e-04,  7.79013306e-03,  3.77262756e-03,  2.53600137e-03,\n",
       "         3.14861722e-03, -1.69404964e-02,  1.94050763e-03,  3.88432314e-03,\n",
       "         3.27588233e-03, -1.36478574e-03,  2.69205589e-03,  3.46343798e-03,\n",
       "         2.42463812e-03, -5.86525907e-03,  1.75290442e-03,  1.90458708e-03,\n",
       "         1.13855978e-03,  6.74963268e-03, -1.14763925e-04,  3.92439297e-03,\n",
       "         1.62993405e-03, -1.40555031e-03,  1.50354943e-03, -1.44912361e-04,\n",
       "         1.12435121e-03,  3.53798244e-03,  7.58122311e-04,  1.37897719e-02,\n",
       "        -3.54937487e-04,  5.72378866e-03,  2.16020381e-03,  1.31449506e-03,\n",
       "         2.53463243e-03,  2.67234602e-03, -6.08720636e-04,  1.65534323e-02,\n",
       "         3.46293002e-03,  7.63730471e-03,  1.32014440e-02,  2.50844689e-03,\n",
       "         6.19707578e-04,  3.60611773e-03,  1.97971366e-03,  4.73860470e-04,\n",
       "        -3.42240289e-04, -7.06990398e-04,  9.20228325e-03,  1.29498141e-03,\n",
       "         2.21455002e-04,  3.41759418e-04,  2.28513359e-03, -3.26950162e-04,\n",
       "         6.89975127e-03, -1.48233581e-05,  1.41881623e-02, -8.32680250e-04,\n",
       "         5.16411838e-03,  7.60865463e-03,  1.17784401e-04,  4.00436569e-04,\n",
       "         2.09184161e-03,  5.05797851e-03,  1.78973770e-03, -5.62202417e-04,\n",
       "         1.34826021e-04,  3.51893028e-03,  9.23620369e-03,  2.17040349e-03,\n",
       "        -2.84186341e-04,  9.30600006e-03, -1.40763807e-05,  1.61227290e-02,\n",
       "         1.93910662e-03,  1.25458729e-03, -4.73697741e-03,  2.83908862e-03,\n",
       "         1.74281597e-04,  2.11599621e-02, -5.95089552e-04,  1.60637471e-02,\n",
       "         4.08396618e-03,  6.77429539e-03,  5.00789087e-03,  1.24068335e-03,\n",
       "        -1.48450430e-04,  6.45734021e-04,  4.88159928e-04,  7.85041889e-04,\n",
       "         2.57617971e-04,  5.43275005e-04,  2.84180905e-03,  7.64602271e-04,\n",
       "         2.33306197e-03,  1.65042796e-02, -7.05771742e-04,  1.64756927e-02,\n",
       "        -4.98877608e-03, -1.09898995e-03,  9.28196430e-03, -2.22247574e-03,\n",
       "        -1.23122534e-03,  7.62928350e-03,  5.01789255e-03,  1.75318044e-03,\n",
       "        -5.50481816e-04,  2.59177858e-03,  7.16358827e-03,  1.57958547e-03,\n",
       "         4.42562886e-03,  1.09014211e-03,  1.46614484e-03,  9.63531341e-03,\n",
       "         4.63482302e-03,  1.00015566e-02,  1.80237821e-02,  1.49431676e-03,\n",
       "         2.77678593e-03,  3.60022713e-03,  1.35008367e-02,  1.52598904e-03,\n",
       "         8.28212373e-03,  7.70671477e-03,  3.66836693e-03,  1.67017680e-02,\n",
       "         1.86720351e-03,  9.96009923e-03,  3.91337848e-04, -6.06062798e-03,\n",
       "         1.43305293e-02,  1.36353892e-03,  4.97750217e-03, -1.78510685e-03,\n",
       "         7.74816831e-03,  1.70660687e-03,  8.75069215e-03,  1.91926980e-03,\n",
       "         6.21566839e-04,  2.10423656e-03,  1.60372130e-02,  2.93114726e-03,\n",
       "         2.01883029e-03,  1.54441060e-04,  6.74979118e-03,  3.12481966e-03,\n",
       "         4.76557072e-03,  4.72086428e-04, -4.14741633e-04,  7.37234058e-03,\n",
       "         1.41007270e-03,  1.71177231e-03,  7.10729027e-03,  4.34886233e-04,\n",
       "         1.47714911e-03,  1.65361676e-03,  6.24254576e-03,  5.12915114e-03,\n",
       "        -4.06954095e-04, -2.39718364e-04,  6.75096932e-03,  4.74300531e-03,\n",
       "         1.91275567e-03, -6.49467706e-04,  2.53153670e-03,  1.77286776e-02,\n",
       "        -6.45511036e-03,  9.40237593e-03,  2.85314884e-03,  6.88054577e-03,\n",
       "         9.25357784e-04,  1.53416568e-03,  4.51479695e-03,  2.24969602e-03,\n",
       "         2.14375232e-03,  7.27184418e-03,  4.78341885e-03]),\n",
       " 'c_per_item': array([ 2.92212568e-02,  7.97694416e-04, -7.25348792e-04, ...,\n",
       "        -3.61676380e-05,  0.00000000e+00,  0.00000000e+00])}"
      ]
     },
     "execution_count": 110,
     "metadata": {},
     "output_type": "execute_result"
    }
   ],
   "source": [
    "prob2model.param_dict"
   ]
  },
  {
   "cell_type": "code",
   "execution_count": 111,
   "metadata": {},
   "outputs": [
    {
     "data": {
      "text/plain": [
       "0.9405293413111587"
      ]
     },
     "execution_count": 111,
     "metadata": {},
     "output_type": "execute_result"
    }
   ],
   "source": [
    "np.mean(np.abs(prob2model.predict(userids_va_N, itemids_va_N, prob2model.param_dict['mu'])-ratings_va_N))"
   ]
  },
  {
   "cell_type": "code",
   "execution_count": 112,
   "metadata": {},
   "outputs": [
    {
     "data": {
      "text/plain": [
       "0.9396120050485477"
      ]
     },
     "execution_count": 112,
     "metadata": {},
     "output_type": "execute_result"
    }
   ],
   "source": [
    "np.mean(np.abs(prob2model.predict(userids_te_N, itemids_te_N, prob2model.param_dict['mu'])-ratings_te_N))"
   ]
  },
  {
   "cell_type": "code",
   "execution_count": 126,
   "metadata": {},
   "outputs": [
    {
     "data": {
      "text/plain": [
       "(0.7, 1.0)"
      ]
     },
     "execution_count": 126,
     "metadata": {},
     "output_type": "execute_result"
    },
    {
     "data": {
      "image/png": "[encoded data removed]",
      "text/plain": [
       "<Figure size 576x396 with 1 Axes>"
      ]
     },
     "metadata": {},
     "output_type": "display_data"
    }
   ],
   "source": [
    "plt.plot(prob2model.trace_epoch, prob2model.trace_mae_train, 'b.-', label='MAE on train')\n",
    "plt.plot(prob2model.trace_epoch, prob2model.trace_mae_valid, 'r.-', label='MAE on valid')\n",
    "\n",
    "plt.xlabel('epoch');\n",
    "plt.ylabel('mean absolute error');\n",
    "plt.legend(loc='lower right');\n",
    "plt.ylim([0.7, 1])"
   ]
  },
  {
   "cell_type": "code",
   "execution_count": 114,
   "metadata": {},
   "outputs": [],
   "source": [
    "# Create the model\n",
    "prob2model2 = CollabFilterOneScalarPerItem(\n",
    "    n_epochs=6, batch_size=100, step_size=0.1)"
   ]
  },
  {
   "cell_type": "code",
   "execution_count": 115,
   "metadata": {},
   "outputs": [],
   "source": [
    "prob2model2.init_parameter_dict(n_users, n_items, train_tuple)"
   ]
  },
  {
   "cell_type": "code",
   "execution_count": 116,
   "metadata": {},
   "outputs": [
    {
     "data": {
      "text/plain": [
       "array([0.])"
      ]
     },
     "execution_count": 116,
     "metadata": {},
     "output_type": "execute_result"
    }
   ],
   "source": [
    "prob2model2.param_dict['mu']"
   ]
  },
  {
   "cell_type": "code",
   "execution_count": 117,
   "metadata": {},
   "outputs": [
    {
     "name": "stdout",
     "output_type": "stream",
     "text": [
      "epoch       0.000 | loss_total    13.41000 | train_MAE     3.53059 | valid_MAE     3.50620 | grad_wrt_mu     7.02000 | grad_wrt_b_per_user     0.00744 | grad_wrt_c_per_item     0.00417\n",
      "epoch       0.001 | loss_total     9.63843 | train_MAE     2.82615 | valid_MAE     2.80176 | grad_wrt_mu     5.81060 | grad_wrt_b_per_user     0.00616 | grad_wrt_c_per_item     0.00345\n",
      "epoch       0.003 | loss_total     6.49626 | train_MAE     2.27805 | valid_MAE     2.25401 | grad_wrt_mu     4.56607 | grad_wrt_b_per_user     0.00493 | grad_wrt_c_per_item     0.00276\n",
      "epoch       0.004 | loss_total     4.19962 | train_MAE     1.87608 | valid_MAE     1.85257 | grad_wrt_mu     3.54967 | grad_wrt_b_per_user     0.00386 | grad_wrt_c_per_item     0.00218\n",
      "epoch       0.126 | loss_total     1.19280 | train_MAE     0.94047 | valid_MAE     0.94047 | grad_wrt_mu     0.50725 | grad_wrt_b_per_user     0.00192 | grad_wrt_c_per_item     0.00108\n",
      "epoch       0.250 | loss_total     1.06353 | train_MAE     0.91026 | valid_MAE     0.91598 | grad_wrt_mu     0.36033 | grad_wrt_b_per_user     0.00163 | grad_wrt_c_per_item     0.00099\n",
      "epoch       0.376 | loss_total     1.24513 | train_MAE     0.91251 | valid_MAE     0.91585 | grad_wrt_mu     0.21098 | grad_wrt_b_per_user     0.00187 | grad_wrt_c_per_item     0.00110\n",
      "epoch       0.500 | loss_total     1.42168 | train_MAE     0.90881 | valid_MAE     0.91138 | grad_wrt_mu     0.00207 | grad_wrt_b_per_user     0.00202 | grad_wrt_c_per_item     0.00112\n",
      "epoch       0.626 | loss_total     0.79541 | train_MAE     0.89735 | valid_MAE     0.90121 | grad_wrt_mu     0.06683 | grad_wrt_b_per_user     0.00151 | grad_wrt_c_per_item     0.00078\n",
      "epoch       0.750 | loss_total     1.14587 | train_MAE     0.89170 | valid_MAE     0.89531 | grad_wrt_mu     0.23534 | grad_wrt_b_per_user     0.00182 | grad_wrt_c_per_item     0.00105\n",
      "epoch       0.876 | loss_total     1.26937 | train_MAE     0.87509 | valid_MAE     0.88154 | grad_wrt_mu     0.45538 | grad_wrt_b_per_user     0.00188 | grad_wrt_c_per_item     0.00106\n",
      "epoch       1.000 | loss_total     1.18758 | train_MAE     0.86836 | valid_MAE     0.87510 | grad_wrt_mu     0.20558 | grad_wrt_b_per_user     0.00183 | grad_wrt_c_per_item     0.00092\n",
      "epoch       1.126 | loss_total     0.93402 | train_MAE     0.86358 | valid_MAE     0.87006 | grad_wrt_mu     0.12262 | grad_wrt_b_per_user     0.00159 | grad_wrt_c_per_item     0.00089\n",
      "epoch       1.250 | loss_total     0.96380 | train_MAE     0.86184 | valid_MAE     0.86741 | grad_wrt_mu     0.11727 | grad_wrt_b_per_user     0.00167 | grad_wrt_c_per_item     0.00095\n",
      "epoch       1.376 | loss_total     1.04545 | train_MAE     0.85479 | valid_MAE     0.86104 | grad_wrt_mu     0.02312 | grad_wrt_b_per_user     0.00172 | grad_wrt_c_per_item     0.00096\n",
      "epoch       1.500 | loss_total     1.01708 | train_MAE     0.85028 | valid_MAE     0.85686 | grad_wrt_mu     0.28773 | grad_wrt_b_per_user     0.00175 | grad_wrt_c_per_item     0.00099\n",
      "epoch       1.626 | loss_total     1.14766 | train_MAE     0.84148 | valid_MAE     0.84943 | grad_wrt_mu     0.01614 | grad_wrt_b_per_user     0.00180 | grad_wrt_c_per_item     0.00101\n",
      "epoch       1.750 | loss_total     1.06384 | train_MAE     0.84919 | valid_MAE     0.85409 | grad_wrt_mu     0.28176 | grad_wrt_b_per_user     0.00160 | grad_wrt_c_per_item     0.00095\n",
      "epoch       1.876 | loss_total     1.06754 | train_MAE     0.82633 | valid_MAE     0.83663 | grad_wrt_mu     0.31252 | grad_wrt_b_per_user     0.00166 | grad_wrt_c_per_item     0.00088\n",
      "epoch       2.000 | loss_total     0.87244 | train_MAE     0.83136 | valid_MAE     0.83903 | grad_wrt_mu     0.30247 | grad_wrt_b_per_user     0.00156 | grad_wrt_c_per_item     0.00088\n",
      "epoch       2.500 | loss_total     1.03541 | train_MAE     0.81263 | valid_MAE     0.82246 | grad_wrt_mu     0.10734 | grad_wrt_b_per_user     0.00165 | grad_wrt_c_per_item     0.00091\n",
      "epoch       3.000 | loss_total     1.00802 | train_MAE     0.80434 | valid_MAE     0.81408 | grad_wrt_mu     0.01776 | grad_wrt_b_per_user     0.00163 | grad_wrt_c_per_item     0.00091\n",
      "epoch       3.500 | loss_total     0.98808 | train_MAE     0.79572 | valid_MAE     0.80595 | grad_wrt_mu     0.11181 | grad_wrt_b_per_user     0.00148 | grad_wrt_c_per_item     0.00086\n",
      "epoch       4.000 | loss_total     0.97311 | train_MAE     0.79004 | valid_MAE     0.80064 | grad_wrt_mu     0.12009 | grad_wrt_b_per_user     0.00149 | grad_wrt_c_per_item     0.00088\n",
      "epoch       4.500 | loss_total     0.95863 | train_MAE     0.78004 | valid_MAE     0.79268 | grad_wrt_mu     0.52010 | grad_wrt_b_per_user     0.00159 | grad_wrt_c_per_item     0.00088\n",
      "epoch       5.000 | loss_total     0.94943 | train_MAE     0.77807 | valid_MAE     0.79002 | grad_wrt_mu     0.31959 | grad_wrt_b_per_user     0.00154 | grad_wrt_c_per_item     0.00089\n",
      "epoch       5.500 | loss_total     0.94280 | train_MAE     0.77327 | valid_MAE     0.78576 | grad_wrt_mu     0.31286 | grad_wrt_b_per_user     0.00147 | grad_wrt_c_per_item     0.00087\n",
      "epoch       5.999 | loss_total     0.93262 | train_MAE     0.77070 | valid_MAE     0.78321 | grad_wrt_mu     0.20152 | grad_wrt_b_per_user     0.00152 | grad_wrt_c_per_item     0.00087\n"
     ]
    }
   ],
   "source": [
    "prob2model2.fit(train_tuple, valid_tuple)"
   ]
  },
  {
   "cell_type": "code",
   "execution_count": 118,
   "metadata": {},
   "outputs": [
    {
     "data": {
      "text/plain": [
       "{'mu': array([3.38911344]),\n",
       " 'b_per_user': array([ 1.37178042e-01,  2.12716113e-02, -2.24039982e-01,  1.44142399e-01,\n",
       "        -4.17131427e-01, -6.93429885e-02,  4.26281495e-01,  1.77601136e-01,\n",
       "         9.06146845e-02,  4.06094252e-01, -1.07895536e-01,  2.18529132e-01,\n",
       "        -4.52927810e-01,  2.61079339e-01, -3.28703999e-01,  5.18009786e-01,\n",
       "        -7.03346759e-02,  2.47616479e-01, -1.30005762e-02, -1.85440121e-01,\n",
       "        -5.75563671e-01, -1.40801125e-01,  1.01537998e-02,  3.27839657e-01,\n",
       "         1.56075660e-01, -3.29117285e-01, -7.61014378e-02,  6.41938162e-02,\n",
       "         2.95987685e-02,  7.51313077e-02,  8.70849054e-02, -8.21017342e-02,\n",
       "         7.27805253e-02,  9.71722356e-02, -6.09141178e-02,  1.60296033e-02,\n",
       "         2.75384382e-02,  1.25688855e-01,  1.90706642e-02, -1.44561224e-01,\n",
       "         6.20578988e-03,  1.73763680e-01,  1.51675209e-01,  3.90850411e-02,\n",
       "         3.49678513e-02,  9.96164280e-02,  4.44893979e-02,  9.60629503e-02,\n",
       "        -6.72170525e-01,  2.24343473e-03, -7.86464771e-02,  2.03995207e-01,\n",
       "         4.28386109e-02,  5.62598783e-02, -6.24232694e-02,  1.05454203e-01,\n",
       "         2.50775044e-02,  1.37998180e-01,  3.51857409e-01,  3.59950263e-01,\n",
       "        -9.52404483e-02, -1.44930993e-01, -2.30025659e-01, -3.04703068e-02,\n",
       "         1.20826790e-01, -1.68013673e-02,  1.05085357e-01, -1.34431715e-01,\n",
       "         9.30564792e-02, -7.97382178e-02,  8.25253574e-02,  1.01877188e-01,\n",
       "         5.40797129e-02, -1.01729524e-02, -4.37380330e-02, -4.11224067e-02,\n",
       "        -1.02590545e-01, -4.62559792e-02,  1.51620480e-01,  1.16349387e-02,\n",
       "        -1.03460167e-01, -3.91686879e-01, -4.24593510e-02,  1.45637327e-01,\n",
       "        -8.23501292e-02, -8.72120627e-03,  2.72773460e-01,  4.39437285e-02,\n",
       "         1.92214536e-01,  5.71693355e-01,  7.69396659e-02, -2.07583958e-01,\n",
       "        -2.15843690e-02,  1.59848185e-01, -1.55153313e-01,  1.76310964e-01,\n",
       "         2.18715893e-01, -5.24192248e-02,  3.33380218e-02, -1.97925475e-01,\n",
       "        -2.04217881e-01, -7.11476805e-01,  3.80172097e-03, -5.33838701e-01,\n",
       "         1.92504125e-03,  9.55094919e-02, -5.10275960e-02, -1.82450193e-02,\n",
       "        -6.47597028e-02, -3.11255362e-01, -2.30537948e-02,  1.14498552e-01,\n",
       "         5.10505079e-02, -6.08069285e-02,  9.92569173e-02, -4.08610705e-01,\n",
       "         1.78338872e-01,  4.60538782e-01,  3.56824337e-01, -1.05779521e-03,\n",
       "         4.10256107e-03,  1.38257106e-01,  3.88319919e-02, -6.51059839e-02,\n",
       "        -6.86896352e-02,  1.00286086e-01,  1.24939823e-01,  1.01278133e-01,\n",
       "        -2.61876731e-01,  5.34435857e-01,  1.38514790e-01,  8.01720763e-03,\n",
       "        -6.00796434e-02,  2.06672448e-02, -1.85317618e-02,  1.39573480e-01,\n",
       "         2.89670601e-01,  2.15555030e-01,  1.30564095e-01, -1.27770161e-02,\n",
       "        -3.11151306e-02,  4.44659219e-02,  8.73825404e-02,  1.17572879e-01,\n",
       "        -6.48877657e-02,  4.00434525e-02,  9.43760231e-02,  1.22003854e-01,\n",
       "        -1.60740054e-01,  7.99187127e-02,  3.76924519e-01,  5.03847979e-01,\n",
       "        -8.36995541e-02,  5.74655708e-02, -1.28739300e-01, -2.04592446e-02,\n",
       "         1.26128171e-01,  1.87645245e-01,  7.16986408e-04,  2.12304678e-01,\n",
       "        -4.28799087e-01, -2.53118914e-02, -5.20091895e-02,  1.85957397e-01,\n",
       "         6.84465370e-02,  5.59068866e-02, -1.02932120e-01, -1.04723859e-01,\n",
       "         5.78333739e-02,  4.33873211e-02,  2.41239773e-04, -9.52488067e-02,\n",
       "         2.71590642e-01, -2.57167239e-02, -1.38291317e-02,  6.05161751e-02,\n",
       "        -2.13066867e-02,  4.29750654e-02, -1.13068153e-01,  1.72446002e-01,\n",
       "        -1.89982365e+00,  3.35372127e-02, -1.18296157e-01,  1.26010753e-01,\n",
       "         1.09886711e-01, -6.19282720e-03,  1.67127485e-01,  1.54441513e-01,\n",
       "         3.63407310e-01, -7.68698703e-02,  2.08074882e-03,  7.09495764e-03,\n",
       "        -2.21043362e-01, -5.74209321e-01, -8.76920592e-02,  3.82892187e-02,\n",
       "        -1.57648037e-01, -2.23157849e-01, -1.31208841e-01,  5.02399602e-01,\n",
       "        -5.07009719e-01, -1.58427427e-01,  1.03222761e-02, -1.55323273e-02,\n",
       "        -7.59951960e-02, -5.20835733e-01, -2.84388188e-01,  1.66021180e-02,\n",
       "        -1.36568838e-01,  3.15311937e-01, -1.11666954e-01,  3.22954825e-02,\n",
       "         3.31710409e-01,  1.14050627e-01,  6.86799872e-02,  7.88163422e-02,\n",
       "        -2.60230999e-01, -2.22708540e-02,  4.70843004e-02,  7.37201335e-02,\n",
       "         8.58715552e-02, -4.20850453e-01, -1.74897833e-01, -3.18852413e-01,\n",
       "         2.01553492e-01,  4.53883266e-02,  1.75837317e-03, -8.56413141e-02,\n",
       "        -2.23486530e-01,  1.22474374e-01,  3.81377598e-02,  1.37824020e-01,\n",
       "         3.64566612e-01, -4.15960092e-01,  1.39211239e-01, -1.96385032e-01,\n",
       "         1.21326700e-01, -3.41896263e-02,  3.42986637e-01,  2.77721143e-02,\n",
       "        -1.66464033e-02,  1.25193861e-01,  2.37558067e-02,  1.63401027e-01,\n",
       "         1.01054038e-02, -5.49334049e-01,  4.06589490e-02, -4.66101845e-02,\n",
       "         3.83725263e-01,  1.25656175e-01,  1.21064768e-01,  9.18896013e-02,\n",
       "         2.12404936e-01, -3.23356055e-01, -4.43742032e-01,  3.97378364e-01,\n",
       "         1.89625143e-01,  1.12223797e-02,  1.20421796e-01,  7.09109287e-02,\n",
       "         1.49961457e-01, -2.47675181e-01,  2.80970201e-01,  4.49845323e-01,\n",
       "        -2.94158147e-02, -1.05718866e-02,  3.21835653e-01, -4.55508321e-01,\n",
       "        -4.93874023e-01,  5.21796147e-01, -8.98005930e-03,  1.83576442e-01,\n",
       "         3.06629892e-02,  2.30576059e-01, -2.35632955e-01, -6.27715341e-02,\n",
       "        -2.41743418e-02,  6.95911184e-02, -2.09590827e-01,  1.18874205e-01,\n",
       "        -7.45593506e-02, -1.63867147e-02,  2.03056380e-01,  3.84978422e-02,\n",
       "         4.01437473e-02,  1.77513254e-01,  2.80572919e-01,  5.52228108e-02,\n",
       "        -5.76424148e-02, -1.12801421e-01,  1.84458914e-01,  3.27062698e-01,\n",
       "        -5.12409723e-01, -1.04671929e-03,  5.02896145e-01,  3.88234022e-01,\n",
       "        -1.42550316e-01,  2.84024672e-01, -1.33110140e-01,  6.29865937e-02,\n",
       "        -2.86929351e-02, -6.83776720e-02, -1.09686921e-01, -2.26410306e-02,\n",
       "        -2.36791114e-01,  7.35196039e-02,  9.19130755e-02,  1.75757482e-01,\n",
       "         2.66359596e-02,  3.25229289e-02,  1.81298012e-01,  6.02788529e-01,\n",
       "         4.09221620e-03,  2.88334277e-01,  1.84851443e-01, -1.74551853e-01,\n",
       "         3.43659923e-02,  9.46871024e-02, -1.80773733e-02,  1.59119631e-01,\n",
       "         2.13506387e-02,  2.14393321e-01,  2.09863812e-02,  3.91620715e-01,\n",
       "        -9.86577825e-02, -2.50663207e-01, -2.61670912e-01, -7.39507856e-02,\n",
       "        -1.49849874e-01,  6.94298110e-01, -2.50212270e-02,  5.26988160e-01,\n",
       "         3.27748515e-02, -7.28024307e-02,  8.50312465e-02, -4.07655785e-01,\n",
       "         1.11437647e-01,  1.63220653e-01,  3.67179383e-01,  1.88658650e-01,\n",
       "         6.59927858e-02, -1.12835267e-01,  3.43402947e-01,  7.05459486e-02,\n",
       "         1.52774801e-01, -2.57226926e-01,  1.29280731e-02,  1.97203557e-01,\n",
       "        -3.80747966e-02,  2.01350569e-01,  1.88268986e-01, -2.84894485e-02,\n",
       "         7.23016573e-03,  1.37876216e-01,  1.32723198e-01,  1.69751546e-02,\n",
       "         3.74994838e-01,  1.17070195e-02,  8.78106360e-02,  1.14892939e-01,\n",
       "         1.87070400e-01, -2.76184000e-02, -4.51620836e-01, -9.26253316e-03,\n",
       "        -6.71480559e-02,  2.26331792e-01,  2.55618976e-01, -2.31159756e-02,\n",
       "         8.94824700e-02,  1.40332287e-02,  1.27208224e-01,  3.90456891e-01,\n",
       "         1.74917748e-01, -1.81302930e-01,  5.72940522e-02,  1.31635258e-02,\n",
       "         3.60519837e-02, -8.52210031e-02,  2.71123345e-01, -3.42831086e-01,\n",
       "         1.24684585e-01, -5.44795594e-02,  3.13848737e-01,  1.20425638e-01,\n",
       "        -1.96354216e-01,  3.22786815e-02, -2.28437259e-01,  1.90438939e-01,\n",
       "         9.71731216e-02,  7.48554591e-02,  1.00666458e-01,  2.53433226e-01,\n",
       "        -1.17693179e-01,  2.86695394e-01,  7.93770653e-02, -1.57565618e-02,\n",
       "         1.04541917e-01,  3.97157956e-02, -4.98774803e-01,  1.54838006e-02,\n",
       "        -3.12799084e-01,  1.46197225e-01,  6.10158945e-02, -3.80978853e-02,\n",
       "        -1.72005481e+00, -6.78090406e-02, -4.78006731e-02, -4.33554630e-03,\n",
       "        -5.95564638e-02, -6.91638509e-02,  4.06936547e-02,  8.73020895e-02,\n",
       "         1.98339935e-02,  2.48747058e-02,  9.90941119e-02,  3.36974282e-01,\n",
       "        -2.18579828e-01, -1.26013871e-01,  1.00301473e-01,  1.13310152e-01,\n",
       "         9.91506382e-02, -1.32334454e-02,  4.66003996e-02, -5.62039446e-02,\n",
       "        -4.72658488e-01,  1.69561721e-01,  2.08328022e-01,  2.00665247e-01,\n",
       "        -1.70953026e-01, -5.62339794e-02, -1.78663886e-02,  9.10283756e-02,\n",
       "        -2.69182100e-02, -4.40046565e-02, -1.61689508e-01,  1.38167202e-01,\n",
       "        -1.70965601e-02,  1.24104863e-01,  5.63621952e-02,  1.92335029e-01,\n",
       "         9.42278079e-03, -2.67061415e-01, -3.64722586e-02,  2.39615243e-03,\n",
       "        -1.04612442e+00, -1.88452779e-01,  1.87937421e-02, -4.88381989e-02,\n",
       "         9.15241054e-02,  3.24770858e-01, -4.12783387e-01, -2.45808441e-01,\n",
       "        -2.11562195e-01, -5.64500863e-01, -6.95472125e-02, -6.90704630e-02,\n",
       "         4.40695737e-01, -2.57945827e-03, -4.91167473e-02, -1.30721819e-04,\n",
       "        -8.98550213e-02,  1.74265764e-01, -4.10368034e-01,  1.68612241e-01,\n",
       "        -9.60825995e-02, -9.64224455e-03, -9.53098554e-03,  2.81528461e-01,\n",
       "         2.04673090e-01,  6.02713724e-03, -9.58193322e-03,  6.78731478e-01,\n",
       "         9.61866435e-02,  4.15376247e-01, -5.55076632e-02, -5.54245285e-02,\n",
       "         2.16611490e-01, -4.15384530e-02, -1.24583297e-01, -2.11478953e-02,\n",
       "         1.00625349e-01,  2.00351013e-02, -2.11009265e-01,  3.14956035e-01,\n",
       "        -5.26504019e-02, -2.44032304e-01,  1.35255691e-01, -1.41497318e-01,\n",
       "         2.01013511e-01, -3.55955839e-01,  5.31819528e-02, -1.44791897e-01,\n",
       "         7.98204969e-02,  1.07159520e-01,  4.55314887e-01, -3.98927251e-01,\n",
       "        -2.78363768e-01, -2.64418377e-01,  1.13919439e-01, -1.51378327e-01,\n",
       "         9.45310802e-02, -9.89231666e-02,  2.79852668e-01,  8.83403101e-02,\n",
       "        -1.51416440e-01,  1.13268185e-01,  4.27057590e-01,  1.75906892e-01,\n",
       "        -2.41218002e-01, -1.02706212e-01,  3.88571369e-02,  1.24326202e-01,\n",
       "         1.03991124e-01,  1.94442443e-01, -1.35433677e-01,  5.43263515e-02,\n",
       "        -6.75802613e-02,  1.09456363e-01,  3.00697236e-01, -2.91874151e-02,\n",
       "        -3.29396171e-01,  1.26325808e-01,  4.51603068e-01, -1.57961063e-02,\n",
       "        -1.23122472e-01, -1.48999113e-01,  9.61805605e-02,  2.40227094e-02,\n",
       "         5.88090099e-02,  5.99991747e-02,  1.84553253e-02,  6.24980088e-01,\n",
       "        -1.36049591e-01,  3.13282363e-01,  2.84054928e-01,  1.90207578e-01,\n",
       "        -6.67820650e-01,  9.71369130e-03,  1.27332154e-01,  9.10381897e-02,\n",
       "         2.56790760e-02, -6.81088341e-02, -6.11035419e-03, -1.90268856e-01,\n",
       "         3.98140318e-02,  2.14013732e-01,  1.21896282e-02,  7.89579242e-02,\n",
       "         2.60860548e-02,  2.14753309e-02,  2.71803633e-01, -2.11745472e-01,\n",
       "         2.66177107e-01, -1.50462103e-02,  1.92660893e-01,  1.70395455e-01,\n",
       "         1.37888941e-01,  9.07591747e-02, -3.59418712e-02, -7.77728552e-02,\n",
       "        -5.66813402e-01,  5.61494596e-02,  2.13850238e-02,  3.89219014e-04,\n",
       "         2.37550515e-01, -1.63219587e-01,  1.36772072e-01, -1.48864183e-01,\n",
       "        -4.98206520e-03, -1.47569687e-01, -2.68295775e-02, -2.19553215e-02,\n",
       "         2.64959018e-02,  3.84378882e-02, -1.20214645e-01, -7.85648216e-03,\n",
       "         2.02876020e-01, -1.23433028e-01, -8.56370596e-02,  6.55210369e-02,\n",
       "         4.79830448e-02, -6.27093804e-02,  1.09586816e-01,  3.04295273e-03,\n",
       "         7.99895369e-02, -1.10515814e-01, -3.14629861e-01,  1.31775196e-01,\n",
       "        -2.61512114e-02, -7.25773015e-02,  6.91793220e-02,  2.66728703e-01,\n",
       "         7.74996695e-02, -5.17140629e-02, -1.08818143e-01, -3.60768464e-02,\n",
       "         6.83421397e-02,  3.75872723e-02,  2.05370205e-01, -7.10455759e-02,\n",
       "        -3.43395949e-01,  6.94305229e-02,  7.10492668e-02, -4.94344963e-02,\n",
       "         9.22350141e-02,  3.50596540e-01,  4.71171397e-02, -5.24292324e-02,\n",
       "        -3.12077436e-01, -2.06914886e-02,  1.29060621e-01, -3.12714645e-02,\n",
       "         8.05086747e-02, -5.24887289e-02,  1.06075096e-01,  3.15596883e-02,\n",
       "        -4.66866991e-01, -2.88807972e-01,  5.77259842e-02,  2.52106924e-01,\n",
       "         1.23665022e-01, -1.81877816e-01,  1.41360727e-02,  6.10785349e-02,\n",
       "        -1.08574433e-01, -3.38647108e-01, -2.06681030e-01,  2.17756714e-01,\n",
       "         3.46054570e-01, -1.17861133e-01, -6.45409374e-02,  5.05964812e-02,\n",
       "        -1.26740086e-01, -8.02012707e-02, -9.21214383e-02,  1.53411955e-01,\n",
       "        -4.97770469e-01, -2.97752138e-02, -4.34906351e-01,  4.37932965e-01,\n",
       "         8.35307805e-02,  1.23193974e-01,  1.41763503e-01,  1.66357374e-01,\n",
       "         1.56834999e-01, -1.61459100e-01,  8.64861325e-02, -2.26916435e-01,\n",
       "         3.80171736e-02, -3.71820821e-01, -4.19689832e-02, -2.49806676e-02,\n",
       "        -8.18546040e-01,  2.69219326e-02, -5.98302576e-01, -1.90681863e-01,\n",
       "        -6.03289708e-02,  2.94746420e-02,  1.23415077e-01, -7.80718660e-01,\n",
       "         1.14864178e-01,  3.30518362e-02, -4.18906434e-02,  7.47836919e-02,\n",
       "        -4.73849615e-02,  4.12393198e-03,  5.46873792e-02, -7.82961188e-03,\n",
       "        -1.42222869e-01,  5.91526290e-02,  4.95949542e-03, -1.05336454e-01,\n",
       "         3.16196428e-02,  2.95354700e-02,  7.94209521e-02,  8.55846871e-02,\n",
       "         3.60345763e-02, -6.26244012e-02,  8.21188408e-03,  1.24565519e-01,\n",
       "        -7.53114278e-04, -3.24545181e-01, -1.15068837e-01,  3.61448828e-02,\n",
       "        -2.22758291e-01,  3.62199771e-01,  1.12106808e-02,  1.85126589e-01,\n",
       "         3.10043070e-02, -2.36683619e-01,  1.78606071e-01, -5.02200738e-02,\n",
       "        -3.48132488e-01,  3.21852473e-01, -8.07649331e-03,  9.66550509e-02,\n",
       "         1.38425444e-01, -5.75646931e-01, -2.12787435e-01,  9.66674789e-03,\n",
       "         1.51634844e-01, -2.38266585e-01, -1.95821372e-02,  4.56230901e-02,\n",
       "         1.22597376e-01, -7.88397046e-02, -6.02081122e-02, -1.97178491e-01,\n",
       "         1.20639162e-03, -1.36641479e-02,  1.88196064e-01,  1.84266128e-01,\n",
       "        -1.52069054e-01, -3.17991538e-02, -7.00743781e-02,  2.13183672e-01,\n",
       "         1.87750143e-01,  8.70068879e-02, -2.23350405e-01,  5.36324506e-02,\n",
       "         9.73091261e-03,  4.93868387e-02, -9.05578308e-02, -6.34560346e-01,\n",
       "         5.20071747e-02, -6.83315913e-02, -4.13858822e-01,  4.23951786e-02,\n",
       "        -8.59449516e-02, -1.05801346e-01, -1.04330437e-01,  8.10275846e-02,\n",
       "        -1.98123437e-01, -8.00278522e-02, -6.77403100e-02, -7.52854903e-02,\n",
       "         1.17976315e-01, -1.68758466e-04, -6.82234125e-02,  2.24643590e-02,\n",
       "        -8.55720666e-02, -2.01556507e-02,  3.94042076e-02,  1.79282126e-02,\n",
       "        -3.25738499e-01,  5.28125246e-04,  3.85627832e-01,  1.18870171e-02,\n",
       "         6.25523665e-02, -4.19194452e-02, -2.58001112e-02, -1.23922568e-01,\n",
       "         2.80811766e-02,  8.70531182e-03, -1.15071347e-01, -2.25096896e-01,\n",
       "        -1.18438633e-01,  2.50503520e-01,  1.42813458e-01, -6.92737245e-02,\n",
       "        -3.23171202e-01, -8.51933271e-02,  7.07326964e-02,  9.45228269e-02,\n",
       "         9.45128563e-02, -2.29586816e-01,  1.98973081e-01, -8.12385736e-02,\n",
       "        -4.82191813e-02,  4.19464738e-01,  1.22495858e-01,  1.31207498e-01,\n",
       "        -1.86062906e-01, -1.17375702e+00,  7.65000641e-02, -4.82070449e-02,\n",
       "         1.27545050e-01, -3.29116349e-01,  1.19895690e-01,  4.58082655e-02,\n",
       "         2.22737319e-02, -5.57583777e-01,  7.34041327e-02,  6.56573432e-02,\n",
       "        -3.42531316e-03,  1.21033292e-01, -1.72318304e-01, -2.01752496e-01,\n",
       "         1.10139922e-02, -3.77004133e-01,  5.05837986e-02, -1.27879402e-01,\n",
       "        -2.91582121e-02,  1.60103258e-01, -2.63729904e-01,  5.38485217e-02,\n",
       "        -1.07783247e-01, -8.05010664e-02,  7.02266350e-02,  4.07979391e-02,\n",
       "         1.70914407e-01,  4.97733166e-02, -1.32008781e-01,  1.72835555e-01,\n",
       "        -2.18817938e-01,  9.86336088e-02,  3.15556223e-01,  1.56366334e-01,\n",
       "        -6.43703858e-03,  2.48400161e-01,  1.29567611e-01, -7.17971847e-03,\n",
       "        -8.68210938e-02, -1.49798012e-01,  6.65812019e-02,  7.15864832e-02,\n",
       "        -5.47240162e-02, -4.64164839e-02,  1.13903989e-01, -7.09616205e-02,\n",
       "         3.06468549e-01, -8.45816705e-02,  3.62327831e-01, -9.77246840e-02,\n",
       "         6.55270543e-02,  2.45975956e-01, -5.51858128e-02, -2.36249319e-01,\n",
       "        -2.89130667e-02,  3.75234584e-02, -5.98776884e-02, -1.29945936e-01,\n",
       "        -3.90016667e-01,  1.16639631e-01,  3.07492534e-01,  1.11490597e-02,\n",
       "        -1.50489275e-01,  2.95798987e-01, -1.37634033e-01,  3.34286434e-01,\n",
       "         8.09444655e-02,  3.67156113e-02, -6.23504214e-01, -8.39033259e-02,\n",
       "        -8.90376374e-02,  1.64286393e-01, -3.54638903e-01,  4.95882831e-01,\n",
       "         2.71794979e-01,  2.91592679e-01, -4.68431679e-02, -1.65859929e-03,\n",
       "        -9.53259484e-02, -3.62630907e-01, -3.83599647e-02,  1.88201613e-02,\n",
       "        -2.81997566e-02, -4.63997513e-02,  1.33643971e-01, -1.22140898e-01,\n",
       "         8.96821907e-02,  5.29052925e-01, -2.50315502e-01,  2.46262279e-01,\n",
       "        -5.41482731e-01, -1.84203996e-01,  3.48368770e-01, -4.87358940e-01,\n",
       "        -2.22983559e-01, -1.28150700e-01, -3.32265869e-04, -5.83698707e-03,\n",
       "        -1.07788490e-01,  7.55630058e-02,  2.44490110e-01,  5.79416743e-02,\n",
       "         9.72609079e-02, -2.80639663e-01,  6.00156432e-02, -3.47373490e-02,\n",
       "        -1.73659046e-01,  2.93123727e-01,  2.55572550e-01,  3.69087805e-03,\n",
       "        -4.87040222e-02, -2.11336045e-01,  3.82321784e-01,  7.87762315e-02,\n",
       "        -1.33621700e-01,  1.18521004e-01,  1.93032819e-01,  3.44896369e-01,\n",
       "         2.11394094e-02,  6.02917269e-02, -1.44426932e-02, -5.93230069e-01,\n",
       "         3.50906775e-01,  1.71409786e-02, -4.66839063e-02, -3.07188980e-01,\n",
       "         1.80426645e-01, -5.05540655e-02,  1.90769970e-01,  3.64470673e-02,\n",
       "        -5.24590139e-02,  6.44453119e-02,  6.79335400e-01, -8.77047780e-02,\n",
       "         1.21551557e-01, -1.94753836e-01,  1.03765290e-01,  3.67748497e-02,\n",
       "        -1.42402683e-01, -1.50926739e-02, -1.09329578e-01, -1.45856344e-01,\n",
       "         3.16568373e-02, -1.65272604e-01, -2.78263408e-02, -4.61795544e-02,\n",
       "        -1.59056645e-01, -1.42548845e-01,  3.05488818e-01,  7.43663061e-02,\n",
       "        -1.07141462e-01, -7.04176261e-02,  1.90816431e-01,  2.72041739e-01,\n",
       "        -4.80791398e-02, -2.25707375e-01,  2.99486655e-02,  3.15329153e-01,\n",
       "        -6.86188302e-01,  8.72555720e-02,  1.14634833e-01,  1.58022325e-01,\n",
       "        -7.23911998e-02, -7.08628191e-02,  2.66560945e-01, -1.30582764e-01,\n",
       "         8.83546724e-02,  2.70738363e-01, -1.10905123e-01]),\n",
       " 'c_per_item': array([ 4.12087410e-01, -1.01766118e-01, -2.27298509e-01, ...,\n",
       "        -2.79201434e-04,  0.00000000e+00,  0.00000000e+00])}"
      ]
     },
     "execution_count": 118,
     "metadata": {},
     "output_type": "execute_result"
    }
   ],
   "source": [
    "prob2model2.param_dict"
   ]
  },
  {
   "cell_type": "code",
   "execution_count": 121,
   "metadata": {},
   "outputs": [
    {
     "data": {
      "text/plain": [
       "0.78486004530125"
      ]
     },
     "execution_count": 121,
     "metadata": {},
     "output_type": "execute_result"
    }
   ],
   "source": [
    "np.mean(np.abs(prob2model2.predict(userids_va_N, itemids_va_N, prob2model2.param_dict['mu'])-ratings_va_N))"
   ]
  },
  {
   "cell_type": "code",
   "execution_count": 122,
   "metadata": {},
   "outputs": [
    {
     "data": {
      "text/plain": [
       "0.7892086008789306"
      ]
     },
     "execution_count": 122,
     "metadata": {},
     "output_type": "execute_result"
    }
   ],
   "source": [
    "np.mean(np.abs(prob2model2.predict(userids_te_N, itemids_te_N, prob2model2.param_dict['mu'])-ratings_te_N))"
   ]
  },
  {
   "cell_type": "code",
   "execution_count": 125,
   "metadata": {},
   "outputs": [
    {
     "data": {
      "text/plain": [
       "(0.7, 1.0)"
      ]
     },
     "execution_count": 125,
     "metadata": {},
     "output_type": "execute_result"
    },
    {
     "data": {
      "image/png": "[encoded data removed]",
      "text/plain": [
       "<Figure size 576x396 with 1 Axes>"
      ]
     },
     "metadata": {},
     "output_type": "display_data"
    }
   ],
   "source": [
    "plt.plot(prob2model2.trace_epoch, prob2model2.trace_mae_train, 'b.-', label='MAE on train')\n",
    "plt.plot(prob2model2.trace_epoch, prob2model2.trace_mae_valid, 'r.-', label='MAE on valid')\n",
    "\n",
    "plt.xlabel('epoch');\n",
    "plt.ylabel('mean absolute error');\n",
    "plt.legend(loc='lower right');\n",
    "plt.ylim([0.7, 1])"
   ]
  },
  {
   "cell_type": "code",
   "execution_count": null,
   "metadata": {},
   "outputs": [],
   "source": []
  }
 ],
 "metadata": {
  "kernelspec": {
   "display_name": "Python 3",
   "language": "python",
   "name": "python3"
  },
  "language_info": {
   "codemirror_mode": {
    "name": "ipython",
    "version": 3
   },
   "file_extension": ".py",
   "mimetype": "text/x-python",
   "name": "python",
   "nbconvert_exporter": "python",
   "pygments_lexer": "ipython3",
   "version": "3.8.5"
  }
 },
 "nbformat": 4,
 "nbformat_minor": 4
}
